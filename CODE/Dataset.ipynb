{
  "nbformat": 4,
  "nbformat_minor": 0,
  "metadata": {
    "colab": {
      "provenance": []
    },
    "kernelspec": {
      "name": "python3",
      "display_name": "Python 3"
    },
    "language_info": {
      "name": "python"
    }
  },
  "cells": [
    {
      "cell_type": "code",
      "source": [
        "import pandas as pd\n",
        "from sklearn.preprocessing import MinMaxScaler\n",
        "scaler = MinMaxScaler()"
      ],
      "metadata": {
        "id": "uoOWMa5aCY0s"
      },
      "execution_count": 11,
      "outputs": []
    },
    {
      "cell_type": "code",
      "source": [
        "df = pd.read_csv(\"/content/mathura.csv\",parse_dates=True)\n",
        "df[\"t_kWh\"] = df[\"t_kWh\"]*20\n",
        "scaler.fit(df[[\"t_kWh\"]])\n",
        "df[['t_kWh']] = scaler.transform(df[['t_kWh']])\n",
        "df.rename(columns={'t_kWh': 't_kW'}, inplace=True)\n",
        "# Assuming 'df' is your DataFrame with a timestamp column\n",
        "df['x_Timestamp'] = pd.to_datetime(df['x_Timestamp'])  # Convert timestamp column to datetime\n",
        "df.set_index('x_Timestamp', inplace=True)  # Set timestamp as the index\n",
        "# Resample to 9-min intervals and aggregate using mean, sum, etc.\n",
        "df = df.resample('9MIN').asfreq()\n",
        "value = \"Mathura\"  # Value you want to assign to all rows in the new column\n",
        "df = df.assign(item_id=value)\n",
        "df_train = df.iloc[:int(0.7*len(df)),:]\n",
        "df_test = df.iloc[int(0.7*len(df)):,:]"
      ],
      "metadata": {
        "id": "ZfPV_XUl7hnx"
      },
      "execution_count": 13,
      "outputs": []
    },
    {
      "cell_type": "code",
      "source": [
        "scaler = MinMaxScaler()\n",
        "df_ = pd.read_csv(\"/content/bareilly.csv\",parse_dates=True)\n",
        "df_[\"t_kWh\"] = df_[\"t_kWh\"]*20\n",
        "scaler.fit(df_[[\"t_kWh\"]])\n",
        "df_[['t_kWh']] = scaler.transform(df_[['t_kWh']])\n",
        "df_.rename(columns={'t_kWh': 't_kW'}, inplace=True)\n",
        "# Assuming 'df' is your DataFrame with a timestamp column\n",
        "df_['x_Timestamp'] = pd.to_datetime(df_['x_Timestamp'])  # Convert timestamp column to datetime\n",
        "df_.set_index('x_Timestamp', inplace=True)  # Set timestamp as the index\n",
        "# Resample to 9-min intervals and aggregate using mean, sum, etc.\n",
        "df_ = df_.resample('9MIN').asfreq()\n",
        "value = \"Bareilly\"  # Value you want to assign to all rows in the new column\n",
        "df_ = df_.assign(item_id=value)\n",
        "df_train_ = df_.iloc[:int(0.7*len(df_)),:]\n",
        "df_test_ = df_.iloc[int(0.7*len(df_)):,:]"
      ],
      "metadata": {
        "id": "WNizcbVTBLuS"
      },
      "execution_count": 20,
      "outputs": []
    },
    {
      "cell_type": "code",
      "source": [
        "df_train = pd.concat([df_train, df_train_])\n",
        "df_train.to_csv('train_9MIN.csv')"
      ],
      "metadata": {
        "id": "RA8jlSqGBYfg"
      },
      "execution_count": 18,
      "outputs": []
    },
    {
      "cell_type": "code",
      "source": [
        "df_test = pd.concat([df_test, df_test_])\n",
        "df_test.to_csv('test_9MIN.csv')"
      ],
      "metadata": {
        "id": "BvTmXpBzYssk"
      },
      "execution_count": 19,
      "outputs": []
    },
    {
      "cell_type": "code",
      "source": [
        "scaler = MinMaxScaler()\n",
        "df = pd.read_csv(\"/content/mathura.csv\",parse_dates=True)\n",
        "df[\"t_kWh\"] = df[\"t_kWh\"]*20\n",
        "scaler.fit(df[[\"t_kWh\"]])\n",
        "df[['t_kWh']] = scaler.transform(df[['t_kWh']])\n",
        "df.rename(columns={'t_kWh': 't_kW'}, inplace=True)\n",
        "# Assuming 'df' is your DataFrame with a timestamp column\n",
        "df['x_Timestamp'] = pd.to_datetime(df['x_Timestamp'])  # Convert timestamp column to datetime\n",
        "df.set_index('x_Timestamp', inplace=True)  # Set timestamp as the index\n",
        "# Resample to 9-min intervals and aggregate using mean, sum, etc.\n",
        "df = df.resample('1H').asfreq()\n",
        "value = \"Mathura\"  # Value you want to assign to all rows in the new column\n",
        "df = df.assign(item_id=value)\n",
        "df_train = df.iloc[:int(0.7*len(df)),:]\n",
        "df_test = df.iloc[int(0.7*len(df)):,:]"
      ],
      "metadata": {
        "id": "ox4mt0k5Df_J"
      },
      "execution_count": 21,
      "outputs": []
    },
    {
      "cell_type": "code",
      "source": [
        "scaler = MinMaxScaler()\n",
        "df_ = pd.read_csv(\"/content/bareilly.csv\",parse_dates=True)\n",
        "df_[\"t_kWh\"] = df_[\"t_kWh\"]*20\n",
        "scaler.fit(df_[[\"t_kWh\"]])\n",
        "df_[['t_kWh']] = scaler.transform(df_[['t_kWh']])\n",
        "df_.rename(columns={'t_kWh': 't_kW'}, inplace=True)\n",
        "# Assuming 'df' is your DataFrame with a timestamp column\n",
        "df_['x_Timestamp'] = pd.to_datetime(df_['x_Timestamp'])  # Convert timestamp column to datetime\n",
        "df_.set_index('x_Timestamp', inplace=True)  # Set timestamp as the index\n",
        "# Resample to 9-min intervals and aggregate using mean, sum, etc.\n",
        "df_ = df_.resample('1H').asfreq()\n",
        "value = \"Bareilly\"  # Value you want to assign to all rows in the new column\n",
        "df_ = df_.assign(item_id=value)\n",
        "df_train_ = df_.iloc[:int(0.7*len(df_)),:]\n",
        "df_test_ = df_.iloc[int(0.7*len(df_)):,:]"
      ],
      "metadata": {
        "id": "9NF9uhrNT39b"
      },
      "execution_count": 22,
      "outputs": []
    },
    {
      "cell_type": "code",
      "source": [
        "df_train = pd.concat([df_train, df_train_])\n",
        "df_train.to_csv('train_1HOUR.csv')"
      ],
      "metadata": {
        "id": "4UlxCIksT42d"
      },
      "execution_count": 18,
      "outputs": []
    },
    {
      "cell_type": "code",
      "source": [
        "df_test = pd.concat([df_test, df_test_])\n",
        "df_test.to_csv('test_1HOUR.csv')"
      ],
      "metadata": {
        "id": "7cDNgep-ZOKw"
      },
      "execution_count": 19,
      "outputs": []
    }
  ]
}