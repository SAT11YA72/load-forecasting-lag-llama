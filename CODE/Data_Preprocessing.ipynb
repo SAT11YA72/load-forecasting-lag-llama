{
  "nbformat": 4,
  "nbformat_minor": 0,
  "metadata": {
    "colab": {
      "provenance": []
    },
    "kernelspec": {
      "name": "python3",
      "display_name": "Python 3"
    },
    "language_info": {
      "name": "python"
    }
  },
  "cells": [
    {
      "cell_type": "code",
      "source": [
        "import pandas as pd"
      ],
      "metadata": {
        "id": "kEhF9akv8FGY"
      },
      "execution_count": null,
      "outputs": []
    },
    {
      "cell_type": "code",
      "source": [
        "df=pd.read_csv('/content/CEEW - Smart meter data Bareilly 2021.csv')"
      ],
      "metadata": {
        "id": "yCKknZXcRJ_u"
      },
      "execution_count": null,
      "outputs": []
    },
    {
      "cell_type": "code",
      "source": [
        "x=df[\"meter\"].unique()\n",
        "df=df.iloc[:,[0,1,5]]\n",
        "y=[]\n",
        "for i in x:\n",
        "  y.append(df[df[\"meter\"]==i])"
      ],
      "metadata": {
        "id": "0T-st41L8oG-"
      },
      "execution_count": null,
      "outputs": []
    },
    {
      "cell_type": "code",
      "source": [
        "for i in range (0,len(y)):\n",
        "   sam=y[i]\n",
        "   sam['x_Timestamp'] = pd.to_datetime(df['x_Timestamp'])\n",
        "   sam.set_index('x_Timestamp',inplace=True)\n",
        "   y[i]=sam.iloc[:,0]\n"
      ],
      "metadata": {
        "id": "Hw73Clyc-d64"
      },
      "execution_count": null,
      "outputs": []
    },
    {
      "cell_type": "code",
      "source": [
        "len(df)"
      ],
      "metadata": {
        "colab": {
          "base_uri": "https://localhost:8080/"
        },
        "id": "90N4gyvOIO1v",
        "outputId": "685b3fc1-d783-40f7-ff8e-aaab5717d5f7"
      },
      "execution_count": null,
      "outputs": [
        {
          "output_type": "execute_result",
          "data": {
            "text/plain": [
              "3948960"
            ]
          },
          "metadata": {},
          "execution_count": 11
        }
      ]
    },
    {
      "cell_type": "code",
      "source": [
        "sam=y[0]\n",
        "for i in range(1,len(y)):\n",
        "  sam=sam.add(y[i], fill_value=0)\n"
      ],
      "metadata": {
        "id": "2SJMKxFOIk6T"
      },
      "execution_count": null,
      "outputs": []
    },
    {
      "cell_type": "code",
      "source": [
        "sam"
      ],
      "metadata": {
        "colab": {
          "base_uri": "https://localhost:8080/"
        },
        "id": "iEZzzX4XKhnr",
        "outputId": "9ba14dcb-bd75-4aed-df32-a73bd7c53eef"
      },
      "execution_count": null,
      "outputs": [
        {
          "output_type": "execute_result",
          "data": {
            "text/plain": [
              "x_Timestamp\n",
              "2021-01-01 00:00:00    0.265\n",
              "2021-01-01 00:03:00    0.278\n",
              "2021-01-01 00:06:00    0.264\n",
              "2021-01-01 00:09:00    0.270\n",
              "2021-01-01 00:12:00    0.258\n",
              "                       ...  \n",
              "2021-10-31 23:45:00    0.331\n",
              "2021-10-31 23:48:00    0.288\n",
              "2021-10-31 23:51:00    0.287\n",
              "2021-10-31 23:54:00    0.288\n",
              "2021-10-31 23:57:00    0.289\n",
              "Name: t_kWh, Length: 145920, dtype: float64"
            ]
          },
          "metadata": {},
          "execution_count": 10
        }
      ]
    },
    {
      "cell_type": "code",
      "source": [
        "sam.to_csv(\"barelly_2021.csv\")"
      ],
      "metadata": {
        "id": "_uzn5XaJLsLJ"
      },
      "execution_count": null,
      "outputs": []
    }
  ]
}